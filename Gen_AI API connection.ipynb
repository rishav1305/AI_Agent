{
 "cells": [
  {
   "cell_type": "code",
   "execution_count": 1,
   "metadata": {},
   "outputs": [
    {
     "name": "stdout",
     "output_type": "stream",
     "text": [
      "Output from openai: I am unable to provide real-time weather updates. To find the current weather in New Delhi, please check a reliable weather website or use a weather app.\n"
     ]
    }
   ],
   "source": [
    "from openai import OpenAI\n",
    "from common_functions import get_config\n",
    "\n",
    "# Function to setup and run a generative AI model for multiple providers\n",
    "def run_gen_ai_model(model_name, prompt_text, provider):\n",
    "    if provider == 'openai':\n",
    "        client = OpenAI(\n",
    "        api_key=get_config()['OPEN_AI_DETAILS']['API_KEY']\n",
    "        )\n",
    "\n",
    "        completion = client.chat.completions.create(\n",
    "        model=model_name,\n",
    "        store=True,\n",
    "        messages=[\n",
    "            {\"role\": \"user\", \"content\": prompt_text}\n",
    "        ]\n",
    "        )\n",
    "        return completion.choices[0].message.content\n",
    "    \n",
    "    elif provider == 'gemini':\n",
    "        # Add Gemini API setup and call here\n",
    "        pass\n",
    "    \n",
    "    elif provider == 'claude':\n",
    "        # Add Claude API setup and call here\n",
    "        pass\n",
    "    \n",
    "    elif provider == 'llama':\n",
    "        # Add LLaMA API setup and call here\n",
    "        pass\n",
    "    \n",
    "    else:\n",
    "        raise ValueError(\"Unsupported provider\")\n",
    "\n",
    "# Example usage\n",
    "# provider = 'openai' #, 'gemini', 'claude', 'llama'\n",
    "# model_name = \"gpt-4o-mini\"\n",
    "\n",
    "input_details = ['openai', 'gpt-4o-mini']\n",
    "prompt = \"What is the weather in New Delhi?\"\n",
    "\n",
    "try:\n",
    "    output = run_gen_ai_model(input_details[1], prompt, input_details[0])\n",
    "    print(f\"Output from {input_details[0]}: {output}\")\n",
    "except Exception as e:\n",
    "    print(f\"Error with {input_details[0]}: {e}\")"
   ]
  },
  {
   "cell_type": "code",
   "execution_count": 22,
   "metadata": {},
   "outputs": [
    {
     "data": {
      "text/plain": [
       "[{'role': 'system',\n",
       "  'content': '\\n\\n    You are an AI assistant with Start, Plan, Action, Observation, and Output states.\\n    You will wait for user input and plan accordingly. After planning, take the action with appropriate tools.\\n    After action, wait for observation. After getting observation, prepare the AI response based on start prompt and observation.\\n\\n    Example:\\n    {\\n        \"start\": {\\n            \"user_input\": \"What is the weather of Patiala and Mohali?\"\\n        },\\n        \"plan\": \"I will call the get_weather_details for Patiala\",\\n        \"action\": {\\n            \"function\": \"get_weather_details\",\\n            \"input\": \"Patiala\"\\n        },\\n        \"observation\": \"10°C\",\\n        \"plan\": \"I will call the get_weather_details for Mohali\",\\n        \"action\": {\\n            \"function\": \"get_weather_details\",\\n            \"input\": \"Mohali\"\\n        },\\n        \"observation\": \"14°C\",\\n        \"output\": \"The sum of weather of Patiala and Mohali is 24°C\"\\n    }\\n\\n    Available tools:\\n    get_weather_details: {\\n        \"description\": \"A function that accepts a city name as string and returns the weather details.\",\\n        \"input\": \"string\",\\n        \"returns\": \"string\"\\n    }\\n\\n'},\n",
       " {'role': 'user',\n",
       "  'content': '{\"type\": \"user\", \"query\": \"What is the weather in New Delhi?\"}'}]"
      ]
     },
     "execution_count": 22,
     "metadata": {},
     "output_type": "execute_result"
    }
   ],
   "source": [
    "import json\n",
    "\n",
    "\n",
    "query = \"What is the weather in New Delhi?\"\n",
    "user_query = {\"type\": \"user\", \"query\": query}\n",
    "messages.append({\"role\": \"user\", \"content\": json.dumps(user_query)})\n",
    "messages"
   ]
  },
  {
   "cell_type": "code",
   "execution_count": 2,
   "metadata": {},
   "outputs": [],
   "source": [
    "messages = \"What is the weather in New Delhi?\"\n",
    "\n",
    "output = run_gen_ai_model(input_details[1], messages, input_details[0])"
   ]
  },
  {
   "cell_type": "code",
   "execution_count": 3,
   "metadata": {},
   "outputs": [
    {
     "data": {
      "text/plain": [
       "\"I'm unable to provide real-time weather updates. To check the current weather in New Delhi, I recommend using a weather website or app for the most accurate and up-to-date information.\""
      ]
     },
     "execution_count": 3,
     "metadata": {},
     "output_type": "execute_result"
    }
   ],
   "source": [
    "output"
   ]
  },
  {
   "cell_type": "code",
   "execution_count": null,
   "metadata": {},
   "outputs": [],
   "source": []
  }
 ],
 "metadata": {
  "kernelspec": {
   "display_name": "Python 3",
   "language": "python",
   "name": "python3"
  },
  "language_info": {
   "codemirror_mode": {
    "name": "ipython",
    "version": 3
   },
   "file_extension": ".py",
   "mimetype": "text/x-python",
   "name": "python",
   "nbconvert_exporter": "python",
   "pygments_lexer": "ipython3",
   "version": "3.9.6"
  }
 },
 "nbformat": 4,
 "nbformat_minor": 2
}
