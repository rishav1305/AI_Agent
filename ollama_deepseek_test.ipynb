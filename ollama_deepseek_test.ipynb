{
 "cells": [
  {
   "cell_type": "code",
   "execution_count": 1,
   "id": "f6a37927-851a-41c2-bb5e-7a8752abe7b8",
   "metadata": {},
   "outputs": [],
   "source": [
    "import ollama"
   ]
  },
  {
   "cell_type": "code",
   "execution_count": 45,
   "id": "fa9bbece-1a0d-4798-86c0-aff867562800",
   "metadata": {},
   "outputs": [],
   "source": [
    "messages = [\n",
    "    {\n",
    "      \"role\": \"assistant\",\n",
    "      \"content\": \"\"\"You are an expert python developer. You respond to questions by creating code in python. \n",
    "                  Output should not contain any explanation or other details. Just the python code. \n",
    "                  Include testcases at the top. \n",
    "                  \n",
    "            Example:\n",
    "            INPUT - Create a code in python for Valid Anagram. \n",
    "                    Given two strings s and t, return true if the \n",
    "                    two strings are anagrams of each other, \n",
    "                    otherwise return false.\n",
    "\n",
    "            OUTPUT -\n",
    "            testcases = [\n",
    "                            [['racecar', 'carrace'], True],\n",
    "                            [['jar', 'jam'], False]\n",
    "                        ] \n",
    "            def is_anagram(s):\n",
    "                return sorted(s[0]) == sorted(s[1])\n",
    "\n",
    "            import sys\n",
    "            sys.path.append('../..')\n",
    "            from common_functions import *\n",
    "            run_tests(testcases, is_anagram)\n",
    "                  \"\"\"\n",
    "    },\n",
    "    {\n",
    "      \"role\": \"user\",\n",
    "      \"content\": \"\"\"Create a code in python for Valid Palindrome. \n",
    "                  Given a string s, return true if it is a palindrome, otherwise return false.. \n",
    "                  Testcases: \n",
    "                  [\"Was it a car or a cat I saw?\", True],\n",
    "                  [\"tab a cat\", False]\n",
    "                  \"\"\"\n",
    "        }\n",
    "  ]"
   ]
  },
  {
   "cell_type": "code",
   "execution_count": 18,
   "id": "d52ead63-c91a-4575-881b-d4611f935a23",
   "metadata": {},
   "outputs": [],
   "source": [
    "messages = [\n",
    "    {\"role\": \"user\", \n",
    "     \"content\": \"Write a python function to calculate fibonacci\"}\n",
    "]"
   ]
  },
  {
   "cell_type": "code",
   "execution_count": 46,
   "id": "55f5db4e-6695-493c-b9c5-ffa585bb1d1c",
   "metadata": {},
   "outputs": [],
   "source": [
    "response = ollama.chat(model='deepseek-r1:1.5b', \n",
    "                       messages=messages)"
   ]
  },
  {
   "cell_type": "code",
   "execution_count": 47,
   "id": "51d4db98-c51a-48b9-99a0-10dc23032507",
   "metadata": {
    "scrolled": true
   },
   "outputs": [
    {
     "name": "stdout",
     "output_type": "stream",
     "text": [
      "<think>\n",
      "Okay, so the user wants me to create a Python function called is_palindrome that checks if a given string is a palindrome. A palindrome reads the same forwards and backwards, right? So, I need to figure out how to do this efficiently.\n",
      "\n",
      "First, I remember that in Python, strings are immutable, which means I can't change them once created. That's fine, but for checking palindromes, maybe using lists would be easier since they're mutable and allow me to manipulate characters more easily.\n",
      "\n",
      "Wait, the user already provided a function called is_anagram earlier. Maybe I should use that as a reference. Let me look at how it was done there. The is_anagram function took two strings and compared their sorted versions. That makes sense because if you sort both strings and they are equal, then they're anagrams. So for checking if one string is the reverse of another, sorting seems like a solid approach.\n",
      "\n",
      "So, for is_palindrome, I just need to check if s equals its reverse. But wait, what about non-ASCII characters or case sensitivity? The problem statement didn't specify, but since the test cases are in all caps and lowercase, maybe we can assume that it's case-sensitive and no special characters except letters.\n",
      "\n",
      "Let me think about some examples. If I pass \"racecar\", it should return True because reversing it gives the same string. For a non-palindrome like \"tabac\", returning False is correct as well.\n",
      "\n",
      "I should also consider edge cases, like empty strings or single-character strings. An empty string is technically a palindrome by definition, but perhaps the function should handle that gracefully. If someone passes an empty string, it will return True correctly since both sides are empty after sorting.\n",
      "\n",
      "What about numbers? Wait, in Python, if I try to reverse a number as a string, like \"123\", it's treated differently when reversed because leading zeros would cause issues. But according to the problem statement, maybe we don't have to handle that case unless specified. So, for now, the function will work correctly with alphabetical characters.\n",
      "\n",
      "So putting it all together, the function can simply check if s equals its reverse. To get the reverse, I'll do reversed_s = ''.join(reversed(s)). Alternatively, in Python 3, there's a slice notation to reverse strings: [::-1]. So both methods are acceptable and efficient.\n",
      "\n",
      "Let me test this logic with the provided test cases. The first test case is [\"Was it a car or a cat I saw?\", True], which should return True because reversing it gives the same string. The second test case is [\"tab a cat\", False], which shouldn't be a palindrome, so the function will correctly return False.\n",
      "\n",
      "I think that's all. So the code would just compare the original string to its reversed version.\n",
      "</think>\n",
      "\n",
      "To solve this problem, we need to determine if a given string reads the same forwards and backwards (i.e., it is a palindrome). \n",
      "\n",
      "### Approach\n",
      "A palindrome is a string that remains the same when its characters are reversed. To check for a palindrome efficiently, we can use a simple method by comparing the original string with its reverse.\n",
      "\n",
      "1. **Reverse the String**: Convert the given string into its reversed version.\n",
      "2. **Compare Characters**: Check if the original string is equal to its reversed version.\n",
      "\n",
      "This approach ensures that we only need to perform one transformation (reversing the string) and a single comparison, making it both time and space efficient.\n",
      "\n",
      "### Solution Code\n",
      "```python\n",
      "def is_palindrome(s):\n",
      "    return s == s[::-1]\n",
      "```\n",
      "\n",
      "### Explanation\n",
      "The function `is_palindrome` takes a single argument `s`, which is the string to be checked. \n",
      "\n",
      "- The line `s[::-1]` creates a reversed version of the string `s`.\n",
      "- The comparison `s == s[::-1]` checks if the original string is identical to its reversed version.\n",
      "- If they are identical, the function returns `True`; otherwise, it returns `False`.\n",
      "\n",
      "This approach efficiently determines if a string is a palindrome with an average time complexity of O(n), where n is the length of the string. The space complexity is also O(n) due to the temporary storage required for reversing the string.\n"
     ]
    }
   ],
   "source": [
    "print(response['message']['content'])"
   ]
  },
  {
   "cell_type": "code",
   "execution_count": 44,
   "id": "e93b505e-c60d-4e20-b607-fdfabb7ce2cc",
   "metadata": {},
   "outputs": [
    {
     "name": "stdout",
     "output_type": "stream",
     "text": [
      "\n",
      "def fib(n=None):\n",
      "    if n is None:\n",
      "        return 0\n",
      "    elif n < 0:\n",
      "        return False\n",
      "    sequence = [0, 1]\n",
      "    while len(sequence) <= n:\n",
      "        next_num = sequence[-1] + sequence[-2]\n",
      "        sequence.append(next_num)\n",
      "    if n >= len(sequence):\n",
      "        return sequence[n]\n",
      "    else:\n",
      "        return sequence[n]\n",
      "\n"
     ]
    }
   ],
   "source": [
    "print(response['message']['content'].split('```')[1][6:])"
   ]
  },
  {
   "cell_type": "code",
   "execution_count": null,
   "id": "28e35eb7-5503-494a-b188-a9e6e06c499f",
   "metadata": {},
   "outputs": [],
   "source": []
  }
 ],
 "metadata": {
  "kernelspec": {
   "display_name": "Python 3 (ipykernel)",
   "language": "python",
   "name": "python3"
  },
  "language_info": {
   "codemirror_mode": {
    "name": "ipython",
    "version": 3
   },
   "file_extension": ".py",
   "mimetype": "text/x-python",
   "name": "python",
   "nbconvert_exporter": "python",
   "pygments_lexer": "ipython3",
   "version": "3.10.11"
  }
 },
 "nbformat": 4,
 "nbformat_minor": 5
}
